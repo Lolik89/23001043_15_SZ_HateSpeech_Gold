{
 "cells": [
  {
   "cell_type": "code",
   "execution_count": 6,
   "id": "6fdca64d",
   "metadata": {},
   "outputs": [],
   "source": [
    "import re\n",
    "import pandas as pd"
   ]
  },
  {
   "cell_type": "code",
   "execution_count": 7,
   "id": "635e5982",
   "metadata": {},
   "outputs": [
    {
     "name": "stdout",
     "output_type": "stream",
     "text": [
      "Silahkan masukkan kata:babi\n"
     ]
    }
   ],
   "source": [
    "#KAMUS ALAY CSV INPUT\n",
    "kamus_alay = pd.read_csv(\"new_kamusalay.csv\", encoding='latin-1',header=None)\n",
    "kamus_alay_list_0 = kamus_alay[0].tolist()\n",
    "kamus_alay_list_1 = kamus_alay[1].tolist()\n",
    "\n",
    "#ABUSIVE CSV INPUT\n",
    "abusive = pd.read_csv(\"abusive.csv\", encoding='latin-1')\n",
    "abusive_list = abusive['ABUSIVE'].tolist()\n",
    "\n",
    "#MANUAL INPUT\n",
    "my_input = input(\"Silahkan masukkan kata:\")\n",
    "my_input_list = re.split('\\s', my_input.lower())"
   ]
  },
  {
   "cell_type": "code",
   "execution_count": 9,
   "id": "ba58d7a0",
   "metadata": {},
   "outputs": [
    {
     "name": "stdout",
     "output_type": "stream",
     "text": [
      "****\n"
     ]
    }
   ],
   "source": [
    "for i in my_input_list:\n",
    "    for j in kamus_alay_list_0:\n",
    "            if i==j:\n",
    "                index = my_input_list.index(i)\n",
    "                index2 = kamus_alay_list_0.index(j)\n",
    "                my_input_list[index]=kamus_alay_list_1[index2]\n",
    "\n",
    "result_1= ' '.join(my_input_list)\n",
    "\n",
    "\n",
    "result_2 = re.split('\\s', result_1)\n",
    "\n",
    "for i in result_2:\n",
    "    for j in abusive_list:\n",
    "        if i==j:\n",
    "            index = result_2.index(i)\n",
    "            result_2[index]='*' * len(i)\n",
    "            \n",
    "final_result = ' '.join(result_2)\n",
    "\n",
    "print(final_result)"
   ]
  },
  {
   "cell_type": "code",
   "execution_count": null,
   "id": "f9b7b369",
   "metadata": {},
   "outputs": [],
   "source": []
  }
 ],
 "metadata": {
  "kernelspec": {
   "display_name": "binar-data-science",
   "language": "python",
   "name": "binar-data-science"
  },
  "language_info": {
   "codemirror_mode": {
    "name": "ipython",
    "version": 3
   },
   "file_extension": ".py",
   "mimetype": "text/x-python",
   "name": "python",
   "nbconvert_exporter": "python",
   "pygments_lexer": "ipython3",
   "version": "3.11.1"
  }
 },
 "nbformat": 4,
 "nbformat_minor": 5
}
